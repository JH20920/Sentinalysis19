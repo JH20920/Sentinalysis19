{
  "nbformat": 4,
  "nbformat_minor": 0,
  "metadata": {
    "colab": {
      "name": "Copy of Covid19_Twitter_SentimentAnalysis.ipynb",
      "provenance": [],
      "collapsed_sections": []
    },
    "kernelspec": {
      "name": "python3",
      "display_name": "Python 3"
    },
    "accelerator": "GPU"
  },
  "cells": [
    {
      "cell_type": "code",
      "metadata": {
        "id": "sF2mRiOZa1Ms",
        "outputId": "2e6bad43-eefd-4ee1-8600-976dfe4b8ef5",
        "colab": {
          "base_uri": "https://localhost:8080/",
          "height": 187
        }
      },
      "source": [
        "# install tweepy\n",
        "!pip install tweepy"
      ],
      "execution_count": null,
      "outputs": [
        {
          "output_type": "stream",
          "text": [
            "Requirement already satisfied: tweepy in /usr/local/lib/python3.6/dist-packages (3.6.0)\n",
            "Requirement already satisfied: requests-oauthlib>=0.7.0 in /usr/local/lib/python3.6/dist-packages (from tweepy) (1.3.0)\n",
            "Requirement already satisfied: six>=1.10.0 in /usr/local/lib/python3.6/dist-packages (from tweepy) (1.15.0)\n",
            "Requirement already satisfied: PySocks>=1.5.7 in /usr/local/lib/python3.6/dist-packages (from tweepy) (1.7.1)\n",
            "Requirement already satisfied: requests>=2.11.1 in /usr/local/lib/python3.6/dist-packages (from tweepy) (2.23.0)\n",
            "Requirement already satisfied: oauthlib>=3.0.0 in /usr/local/lib/python3.6/dist-packages (from requests-oauthlib>=0.7.0->tweepy) (3.1.0)\n",
            "Requirement already satisfied: urllib3!=1.25.0,!=1.25.1,<1.26,>=1.21.1 in /usr/local/lib/python3.6/dist-packages (from requests>=2.11.1->tweepy) (1.24.3)\n",
            "Requirement already satisfied: chardet<4,>=3.0.2 in /usr/local/lib/python3.6/dist-packages (from requests>=2.11.1->tweepy) (3.0.4)\n",
            "Requirement already satisfied: certifi>=2017.4.17 in /usr/local/lib/python3.6/dist-packages (from requests>=2.11.1->tweepy) (2020.6.20)\n",
            "Requirement already satisfied: idna<3,>=2.5 in /usr/local/lib/python3.6/dist-packages (from requests>=2.11.1->tweepy) (2.10)\n"
          ],
          "name": "stdout"
        }
      ]
    },
    {
      "cell_type": "code",
      "metadata": {
        "id": "MBSMP6OHbDo9"
      },
      "source": [
        "import re\n",
        "import tweepy\n",
        "from tweepy import OAuthHandler\n",
        "consumer_api_key = 'lPzdEsMJUTVIML9qb2hq2qDQc'\n",
        "consumer_api_secret = 'QTn3iBl5hZUy1GCIji44OaR3FX4UGlrEZMzLSZnDoeXVWJDMLI' \n",
        "access_token = '1315947567335837696-vw2E7P5rM12ryFZnUKDVR8NNaVVirV'\n",
        "access_token_secret ='BTbTP5vayxfRuGMRXeAhbkNMFMYWvZqGt9hGW41MjyXsc'"
      ],
      "execution_count": null,
      "outputs": []
    },
    {
      "cell_type": "code",
      "metadata": {
        "id": "3DXzCMJPbUSe"
      },
      "source": [
        "authorizer = OAuthHandler(consumer_api_key, consumer_api_secret)\n",
        "authorizer.set_access_token(access_token, access_token_secret)"
      ],
      "execution_count": null,
      "outputs": []
    },
    {
      "cell_type": "code",
      "metadata": {
        "id": "PCvHKeQsbfvp"
      },
      "source": [
        "api = tweepy.API(authorizer ,timeout=15)\n",
        "all_tweets = []\n",
        "search_query = 'COVID-19'\n",
        "\n",
        "for tweet_object in tweepy.Cursor(api.search,q=search_query+\" -filter:retweets\",lang='en',result_type='recent').items(200):\n",
        "    all_tweets.append(tweet_object.text)"
      ],
      "execution_count": null,
      "outputs": []
    },
    {
      "cell_type": "code",
      "metadata": {
        "id": "ovmgZsegcr4Z",
        "outputId": "d018dcc6-71b2-4dce-a22f-eff396453d6e",
        "colab": {
          "base_uri": "https://localhost:8080/",
          "height": 54
        }
      },
      "source": [
        "print(all_tweets)"
      ],
      "execution_count": null,
      "outputs": [
        {
          "output_type": "stream",
          "text": [
            "['Impact of COVID-19 on chronic cardiovascular patients\\nhttps://t.co/IvQCgu3Uk5', 'GRAPHIC-New U.S. COVID-19 cases rise 11% last week, Midwest ... https://t.co/QzO0N4ojHQ', 'We have been experiencing some problems with subscriber log-ins and apologise for the inconvenience caused. #WFH… https://t.co/hWVwfJ0QHF', '@solsilvanazb https://t.co/zVCYuzR9PN\\nThis aged well', '@colvinj Covid-19 likes this tweet https://t.co/oC1u9h0f8v', \"Vice President Venkaiah Naidu Explains How He Recovered From COVID-19: 'Physical Fitness, Mental Tenacity and Desi… https://t.co/8tiA1n2IJV\", 'UAE Central Bank reveals 3 common scams during Covid-19 https://t.co/UG0pwybs6g', 'A 25-year-old man becomes first in the U.S. to contract coronavirus twice @CNBC https://t.co/ErPl6gKgnD', \"Soon Covid-19 will be treatable, but it shouldn't just be the rich who benefit | Jeremy Farrar https://t.co/nt6fKTeUnO\", 'New Milford COVID 19 update - https://t.co/whGSmVn6CF  #NewMilfordCT https://t.co/ESjVMGfBBU', '“These figures are a stark reminder that this crisis is once again escalating.\"\\n\\n- Dr Layla McCay (@LaylaMcCay) res… https://t.co/GXcfNXzg24', 'Lakers postpone public celebration due to COVID-19\\xa0pandemic https://t.co/i09pRx8Uy1', 'Governor Ralph Northam updates the Commonwealth on the latest developments concerning COVID-19. https://t.co/irS2RzQz17', 'With about 493 new COVID-19 cases per 100,000 residents over the past 14 days, the Czech Republic has the European… https://t.co/LK0ENGU8UI', 'Wales Daily Coronavirus (COVID-19) Report · Tuesday 13th October.\\n\\n764 new cases (people positive) reported, giving… https://t.co/kpJcQ6I9k6', 'Johnson &amp; Johnson Halts COVID-19 Vaccine Study After Participant Comes Down With ‘Unexplained Illness’ https://t.co/GSAIZpcelI', 'Remote work productivity booster tips: #5 of 6 - Invest in self-care, both physically and mentally. More advice &amp; t… https://t.co/F5UiJeeaQu', 'Caring for a loved one during the #COVID19 outbreak can add stress for dementia caregivers. We are here if you need… https://t.co/bAddOoGl5F', \"Pediatric hospitals face 'double whammy,' not spared from COVID-19 effects - Healthcare Dive… https://t.co/H2ONjP7Zcy\", '@FullFact Why did the flu stats disappear from government websites in March/April ? and if COVID-19 is \"new\" why is… https://t.co/qkWtsHFbXP', \"A 25-year-old man becomes first in the U.S. to contract coronavirus twice, with second infection 'more severe' https://t.co/A5djDAJNIS\", 'Is trump really immune to COVID-19? https://t.co/oX0XrzzsCm', 'COVID-19 and Excess All-Cause Mortality in the US and 18 Comparison Countries - https://t.co/rdqpmqvcvk', \"It's the first confirmed case of reinfection with the virus in the United States. The instance raises questions abo… https://t.co/yipctWqCu0\", 'Minister for Public Expenditure, Michael McGrath says an extra 1,146 acute beds will be provided. There will also b… https://t.co/3skLJTBR8Z', 'Teen gave COVID-19 to 11 relatives across four states during gathering:\\xa0CDC https://t.co/snPQFpRCl7', '@MsRakel Don’t know how old but my friend came back from UK 3 weeks ago and that’s what he had to do even though he… https://t.co/dVXXwN8H4Q', 'Covid-19 cases are\\xa0rising in parts of New York City... Across other parts of the United States and Western Europe,… https://t.co/ISNWtlYPC1', 'Utah hospital officials warn state in ‘precarious’ situation with record COVID-19 hospitalizations https://t.co/27vbpLlurw via @DeseretNews', \"Today begins free, no-barrier COVID-19 testing at St. Cloud River's Edge Convention Center.… https://t.co/GI3fHG1IGM\", 'Seven deaths and 863 new cases of COVID-19 https://t.co/WA5RIzbJGh via @SouthAntrimVox', \"I didn't ask God why is this happening but what I do is that, I ask God for help because our family is in danger an… https://t.co/udQeITvQF8\", \"@_ctaylor_ Oh, I have never been to Romania, I'll have to add it to my to-go list! Huge thumb up for Greece, I was… https://t.co/4z1GVmQiJR\", '\"In the U.S. alone, sustained attention among workers — the driver of task completion — dropped 31 percent by Augus… https://t.co/wZk4mgmvRM', \"https://t.co/zUDhyZv0nE \\nHE CAN KISS MY ASS, MAYBE NOT I'LL PROBABLY CATCH SOMETHING\", '@2020IsNuts @Mary_Contrary @thehill SARS-CoV-2, the virus that causes COVID-19, remained viable on samples of human… https://t.co/Y2GiR8LfgO', 'Two questions, 1. When did Giuliani become a disease specialist? 2. When did COVID-19 stop killing people because i… https://t.co/yi8fi3Updd', 'CNN reporter to Trump supporter: What if Trump asked you to put on a mask?\\nhttps://t.co/aGQNl2IXlO. ‘Crazy 😜 people’', 'Breaking: A total of 71 new positive cases of Covid-19 in Chandigarh as per the latest medical bulletin on Tuesday.… https://t.co/rqu0g5jShB', 'Johnson &amp; Johnson says it has paused all trials of its Covid-19 vaccine due to a sick subject https://t.co/wFewlZPvmO via @WSJ', 'Older reports are here:\\nhttps://t.co/ZZjde95YjT\\n\\nNew report is here:\\nhttps://t.co/7j1VtNTXUx', 'Evidently PHE have decided to replace their weekly COVID-19 surveillance reports with a new COVID &amp; flu report.\\n\\nWi… https://t.co/uuEDexMsFm', 'How #COVID19 Created The #FutureOfWork via @forbes https://t.co/H4BNOHkviN', '@LabyrinthWeaver @realDonaldTrump \"if it weren\\'t for @POTUS 257326899755 people would have died of covid-19, they s… https://t.co/2kPAwdPOT3', 'Covid-19: WHO chief says India’s Aarogya Setu app helped identify clusters, increase\\xa0testing https://t.co/WneQEobBfg', 'we have over 10 years of certified testing results comparison with commercial lab tests results of our COVID-19 lin… https://t.co/cdM5T9SiTm', 'This article about being single during the pandemic by @ChaplainChloe was one of the most popular from my recommend… https://t.co/oJ6PCqX2rE', '#COVID__19 Testing In #TamilNadu\\nDay Wise Testing Update\\n\\nTotal Test - 84,88,503\\n\\nOct13: 85,509\\nOct12: 80,162\\nOct11… https://t.co/MGm0KAcTuZ', '@realDonaldTrump When was Joe Biden president? How many are dead from COVID-19?', 'Covid- 19 is affecting most countries, BREXIT is just affecting the UK. 2021 will see this government overseeing jo… https://t.co/5yTmgkhFek', 'With the traditional workplace turned on its head, it’s time to take another look at the data breach landscape.… https://t.co/GZuVRRxdjg', \"A lot of welcome support for business, but I haven't heard much yet on support for young people - those most impact… https://t.co/2jQcT5xtRH\", 'We need to make everywhere but the US the \"wrong place\" for this foolishness.\\nVote @jacindaardern for leader of the… https://t.co/0YtSdHs87N', \"This is how Mitch feels about those affected by Covid-19. He doesn't care about people. He cares only for power and… https://t.co/RdqHqDchP3\", 'COVID-19 Health Innovation Collaborative Attracts Ideas from Across U.S. to Address Health Pandemic Challenges \\n\\nRE… https://t.co/gnhQoXJ1UB', 'Today the @TheProgressives Bureau &amp; Heads of Delegations will hold an important meeting on the recovery plan for Eu… https://t.co/vM6sejQkMI', 'Billboard on Route 28 in Kingston New York from @nyfasave 🙌🏼🌱\\n\\nPhoto credit 📸 @portraits_by_lisa \\n\\n#pandemic… https://t.co/PcnBHmAJNA', 'Seven deaths and 863 new cases of COVID-19 https://t.co/VHhQoExMrz via @SouthAntrimVox', 'Santino and Emma Hamberis from @vinelifeMCR and @tlg_org will be giving a seminar at our #CTCC2020 conference on \"E… https://t.co/GfZpaQ36TX', '@Gobblin12 @AlphabetsB @NevoRotate @TheDark76137476 @PJacob_82 @LIVINGDEADGRRL2 @WSJ The basic argument is akin to… https://t.co/YquB8IWI2c', '6 COVID-19 terms that would have made no sense in January https://t.co/tXspkLa6Me', \"Covid-19 is a strange, tricky, powerful viral disease. You can't just make a vaccine to it. It you want a vaccine t… https://t.co/Niehn4cwRY\", 'What would it take to make #Covid-19 drugs actually free? https://t.co/gANvOUDZXf', 'The COVID-19 pandemic has given us a sudden shift away from going to schools and workplaces to studying and working… https://t.co/viJOMT4SjS', \"Johnson &amp; Johnson pauses Covid-19 vaccine trial after 'unexplained illness' #SmartNews  https://t.co/0onNCvI4ag\", 'MN health officials tie nearly two dozen COVID cases to presidential campaign events https://t.co/ef8U6r6YDI via @pioneerpress', 'Today, @NYGovCuomo is releasing a new book about his response to COVID-19. But where is the chapter on Leonard Cart… https://t.co/ynUJjltuqj', '#COVID19 awareness at #Chennai #traffic signals. @chennaipolice_ @ChennaiTraffic @copmahesh1994  https://t.co/EnigviKWnS', 'The NIH’s “Big Effect Trial,” or ACTIV-5 study designed to determine if approved therapies or investigational drugs… https://t.co/tyg27IDhJ0', '@RMLLowe WHO chief Tedros Ghebreyesus:\\n\"Letting Covid-19 circulate unchecked therefore means allowing unnecessary i… https://t.co/X5nHGvIorN', 'How long can I expect a COVID-19 illness to last? https://t.co/YGQekaCXqq via @WDRBNews', 'Sources say the #Titans\\xa0 had no new positives from Monday’s round of COVID-19 testing. \\n\\nGame on tonight against th… https://t.co/LPAt6l5pRK', 'Sharing this webinar that I and John LaRochelle presented back on March 31, 2020. While the virus epidemiology has… https://t.co/uYUQvlCpV7', 'Please follow these guidelines to help protect others by slowing the spread of COVID-19:\\n• Wash your hands often\\n•… https://t.co/wQSXi1VP25', '@ananavarro Is mania and delusion a side effect of Covid 19? In trump’s situation it’s an exacerbation of “pre-existing conditions”.', 'The dogs trained to sniff out Covid-19 https://t.co/3iByIMfmqC', 'Bowden says he is improving after contracting COVID-19 https://t.co/KUzHy3j4Iv', '@JohnCornyn We need to focus on helping Americans. Republican crusade to push through this nomination against the w… https://t.co/nmfx4luiet', 'Lexington had 60 new cases of COVID-19 yesterday, bringing the total to 9,445 cases &amp; 84 deaths during the outbreak… https://t.co/SNojLOf0wv', 'Top COVID-19 Survey: Brits Way Ahead of French, Germans and Americans in Digital Shopping Trends https://t.co/qF2Pfs5ruO', '\"The future of work accelerated by COVID-19” at FMI\\'s 2020 Midsummer Strategic Executive Exchange https://t.co/fZC7PsSn7Q', 'COVID-19 Mortality Risk Calculator \\nhttps://t.co/VNJM0aGjuR via @OmniCalculator \\n\\nhttps://t.co/jrmyHNKYj2 \\n\\n#COVID19 \\n\\n#TrumpVirus', \"Attention students:  \\n\\nUMBC's undergraduate student-led AMWHO with chapters from Hopkins, Texas Tech, Duke, and UNC… https://t.co/Ls6Di6kuWi\", \"'Pandemic fatigue': Sweden didn’t impose Covid-19 lockdown to avoid the wrath of the public, health chief says https://t.co/gcLgPf1GnC\", 'Steve Negron continues to deny the fact that masks protect our health from the deadly COVID-19 virus. He is a dange… https://t.co/66QQrV2AM8', 'NORTHERN IRELAND.  Announced on Tuesday.\\n\\nCOVID-19 DEATH DETAILS.\\n\\n7 further deaths have been recorded in Northern… https://t.co/9Hq9W7gYgU', '@DaninCarteret @RexChapman Yeah, it’s just that liberals believe in science and not infecting and killing off their… https://t.co/niRyWczQsT', 'COVID-19 survivors are reporting some frightening new coronavirus symptoms https://t.co/IBqf1InCMZ https://t.co/vrnSLuMROA', 'Libby, MT, a Superfund site where at least 400 people have died from #asbestos-related diseases after breathing in… https://t.co/H8IQiUEVis', '@DrMStiegler I’m doing well, but I would like to have rapid and reliable COVID-19 testing for my clinic.', 'CNN reporter to Trump supporter: What if Trump asked you to put on a mask?\\nhttps://t.co/qpiV4gkJfK', 'Want to know more about how the third sector in Leeds is shaping the local response to the COVID-19 pandemic? And h… https://t.co/5r3T5es1JO', 'Egypt records 132 new COVID-19 cases, 104,648 in\\xa0total https://t.co/K93ppY9JIw', \"Dr. Fauci Warns of a 'Real Problem' Coming Soon https://t.co/avnOcfWCwS \\n\\nCOVID-19 has no boundaries. The virus wil… https://t.co/B50piJ323z\", '@HoppySaul @NicolaSturgeon It doesn’t take much working out does it? Universities and schools open then a high rise… https://t.co/glth0Mey7O', 'The IMF praised governments for their willingness to spend big, propping up businesses and supporting jobs, but sai… https://t.co/PVyE59thwI', '@realDonaldTrump But those folks have a better chance to not catch COVID-19 unlike your super spreaders.  #DumpTrump', '01. Monitor Your Health\\n\\nSelf-screen before heading to the polls. If you are feeling any symptoms associated with C… https://t.co/V1E4Yn3Y6C', 'Most importantly, we hope this keeps institutions talking to one another about policies, what seems to be working,… https://t.co/1wggIvbnPq', 'The Change 24-HWPL International Religious Leaders Request for “Webinar”: Global Prayers Gathering for Overcoming t… https://t.co/j0Ppcrhgto', \"Trump, downplaying risk, says he's ready to 'kiss everyone' at his first campaign trail rally since COVID-19 diagno… https://t.co/keXqF8vCEb\", 'Get the latest on top stories in and around Sioux City, and check updated COVID-19 counts for Iowa, Nebraska and So… https://t.co/BNclx1tsVK', '~ a #thread\\n\\nCovid-19 will blow a $28tn hole in the world economy by 2025, @IMFNews has warned.\\n\\nThe shortfall comp… https://t.co/BmI4QrGcij', 'WORLD SHAPED BY COVID 19, CORONAVIRUS AI https://t.co/H8PqxOjFm3 #Artificial #artificialintelligence #covid19… https://t.co/uE1GgrPuTP', 'Lasik Surgery During Covid-19 For Tired Eyes? What to Know - Bloomberg https://t.co/AZzTr6XuAq', '🚨New Working Paper🚨\\nScientists with better ratings of their institution’s response to the COVID-19 pandemic have mo… https://t.co/yjHP1iGhoR', 'Sources say the #Titans\\xa0 had no new positives from Monday’s round of COVID-19 testing. \\n\\nGame on tonight against th… https://t.co/k9kND0XSFC', 'A really good session this morning on Wellbeing for Education Return in the COVID-19 world we find ourselves living… https://t.co/w1vR17d78t', 'If anyone knows any good suppliers or websites for reasonably priced COVID-19 PPE and equipment please send me a me… https://t.co/mAEzusoJCw', 'California kept prison factories open. Inmates worked for pennies an hour as COVID-19 spread #SmartNews  https://t.co/hKuIjMeQgz', \"_ Caliban's News Feed _ \\nJohnson &amp;amp; Johnson halts trial of COVID-19 vaccine after participant's 'unexplained ill… https://t.co/EfRSFEde6n\", '#COVID_19 Ireland lockdown: Dublin at high risk of moving to Level Four as NPHET meet https://t.co/7zfFYCjzlm', '@stephengbingham @northernlifer @paul85nufc @thismorning wrong very wrong\\nhttps://t.co/iLBZCBJxbZ', '\"Immunity passports\" in the context of COVID-19 https://t.co/lrjOc8COS0', '#MachhalMela organised by #IndianArmy 2 give a platform 2 youth in d field of sports&amp; oder talents\\n\\nWith an aim 2 e… https://t.co/L8O45ShuSi', '@FameEnt2k He may had a little bit of symptoms nothing major. One of my sister in laws was positive for Covid-19 sh… https://t.co/tghNNurYdn', '@StoBlue65542328 @guruandsensei @annaeck73 @outofcontroljb @realDonaldTrump No, you’re not done, you’re just lackin… https://t.co/nMMBLucZct', '@realDonaldTrump \"if it weren\\'t for @POTUS 257326899755 people would have died of covid-19, they say. A lot of peop… https://t.co/o6TivDOxuo', '#MathematicalModeling has shown that #COVID19susceptibility is independent of #age, while the development of sympto… https://t.co/CjfU3GzxOj', '✳️ #Delhi BULLETIN | 13 OCTOBER 2020\\n\\n3,036 new #Covid_19 cases reported\\n\\n3,14,224 total positives\\n\\n2,036 new patie… https://t.co/lq3ifqVB0P', 'Not every health issue requires a visit to the VA. You can reduce the spread of respiratory illnesses by using VA’s… https://t.co/6B2gH1MtKi', 'US sees 20% more deaths than expected this year, most due to Covid-19, research finds\\nhttps://t.co/JLNhwaO0cK.  Thi… https://t.co/44IJqN3LHm', 'Europe’s schools are reporting thousands of cases in some of the continent’s biggest coronavirus hot spots… https://t.co/WhkB3E0C2V', 'Seniors struggling with mental health issues during #COVID19 can call 211 or visit https://t.co/BprAnmBu22. They wi… https://t.co/cOoyCaamMK', \"'Health v wealth' divide between Welsh and UK Government approaches to Covid-19, police boss says -… https://t.co/H5kpT6BoVl\", 'How is Covid-19 spewing, non mask wearers any different than a drunk drivers?\\n\\nNeither think they will do any harm.… https://t.co/9zJDO6pwLw', 'The Louisiana House of Representatives on Monday voted to suspend the State Fire Marshall’s ability to enforce rest… https://t.co/5y1MHdh1Cn', 'COVID-19 Dashboard by the Center for Systems Science and Engineering (CSSE) at Johns Hopkins University (JHU) https://t.co/oNgcTn01gJ', '@MikeNew15607156 @GOP_EthicsGhost @ProjectLincoln This here was a mutation - https://t.co/J23RygsXSS', '@GiovanniToti Basta chiedere un time out al covid-19 🤦\\u200d♂️', '@uk_sf_writer @Mariebe10098426 Those under 60 have more risk of dying from flu than Covid-19.\\n\\nThe flu vaccine is h… https://t.co/MwQNVBNbNe', '\"Schools aren’t COVID-19 super-spreaders, new data suggests\"\\n\\nStatistics involving 200,000 schoolkids from 47 state… https://t.co/bqvRjnJkZV', 'BREAKING: Another seven people have died in NI after contracting Coronavirus and a further 863 positive cases have… https://t.co/0J1crZAuON', 'Covidiot: It’s the word for those who ignore the science around #COVID-19, don’t wear masks, avoid social distancin… https://t.co/yz1kYY7xaD', 'India continues to report trend of steadily decreasing active cases of #COVID19: Health Secy\\n\\nhttps://t.co/Ib2nMiCSJ5', 'COVID-19 has not dragged us down to Hell. The mark of our hope is that we long for each other, we long for that emb… https://t.co/bJZXlzNX3r', '\"Migrants can be returned home in a safe and dignified manner despite the constraints imposed by COVID-19,\" accordi… https://t.co/yshCfmfOrx', 'Ok do u wanna know why did covid-19 or corona spread out thw world???\\nThis is why corona spread out the world... Th… https://t.co/KJEI62SZqZ', 'We are expanding again! Puritan, Cianbro to build second COVID-19 swab factory in Pittsfield. Read More:… https://t.co/OHaovZX3Qs', \"'I just feel so powerful.'  Trump hits the campaign trail in Florida for first rally since COVID-19 diagnosis… https://t.co/QTkfOrr1jB\", '@ReflectingMan @glennkirschner2 @ericgarland Should be done to Lindsey Graham and Chuck Grassley for refusing to take Covid-19 test!!!', '@homespacenz The new normal, in which Boris Johnson dictates how many people you can peacefully interact with, is d… https://t.co/NLgcPJSply', 'The #Giro is showing us how lucky we were that #TourDeFrance made it to Paris largely intact. So unfortunate https://t.co/M1U2mHlhuL', \"Covid-19: Protests as Argentina's cases pass 900,000 https://t.co/cGATHC1oTk\", 'Analysis: The US and Europe face rising Covid-19 case numbers as they squander lessons from Asia-Pacific - CNN https://t.co/lB0meLiKa9', 'Open SmartNews and read Man who dismissed Covid-19 and then survived it says he is an example for doubters here:… https://t.co/pIz5kOzM9h', \"@Nigel_Farage They don't have to follow this gobshite government advice - all the pubs and restaurants I've been in… https://t.co/S0fGhbqvha\", 'MAST Academy resumes in-person learning after 2 students contract COVID-19\\nhttps://t.co/qCAC3HWBnb', 'VACANCY: Palladium Group is Recruiting for Public Health Response Officer COVID - 19 and COVID-19 Coordinator\\n\\nAppl… https://t.co/j9j2iGi6Tv', '@eoghan_colgan of @continulus won the @WeDOScotland Best Pivot Service Award in our COVID-19 Scottish SME Business… https://t.co/nv5O3BmYxh', \"From @JeffPlatsky: New York's Southern Tier avoided the first COVID-19 outbreak. Now it's getting hit.… https://t.co/gpTgVk1ATw\", 'WEBINAR | Work, women and COVID-19 https://t.co/Tu4uFgErQO', 'ICMA is hosting a Free Webinar!\\nCOVID-19 Mass Vaccination: Preliminary Guidance for Local Government Leaders and Ma… https://t.co/1Z0QFKNhKP', '@IsabelOakeshott @Femi_Sorry Currently the age range most likely to get Covid-19 is c19-40. They are liable to deve… https://t.co/xNXSVrymwX', '@TheLaurenChen \\n\"Johnson &amp; Johnson\\'s JNJ-78436735 vaccine is one of four large-scale, final-stage COVID-19 vaccine… https://t.co/dtdu0NsFec', 'Vardhan expressed deep gratitude and offered salutations to all the COVID-19 warriors who have been steadfastly fig… https://t.co/FrDXiM4FA1', 'Lindsey Graham could give his opinion about ACA on a soapbox in a debate. If he wouldn’t have refused a COVID-19 te… https://t.co/aixttw89ti', 'Proves me right in what I tweeted &amp; told @wapo @nytimes @thedailybeast and other MSM about how terrible &amp; counterpr… https://t.co/TnDoeh2Kai', 'Hospitalizations increase in New York amid second COVID-19 spike https://t.co/GELS5g3qAU', \"Polish minister threatens to veto EU’s Covid-19 recovery plan as payback for Brussels' cultural ‘blackmail’… https://t.co/kqxcJDHLu4\", 'Covid-19 -  Gov. are not supposed to put any burden to the tax payers. People are fighting for their lives and thei… https://t.co/AAMN68Qny0', '@NoThatIsNotAll @RealJoelSmalley @janekin24 ...all-cause mortality in the UK fell BELOW the five-year average in Ju… https://t.co/ijl2Me8bBe', 'Nursing staff recognised in Queens birthday honours list, read more here: https://t.co/n7SA9kVHfJ #nursing #honourslist', \"@ananavarro It's Because He Never Had Covid-19 It Was A TRICK To Get His Base Pumped Up Again\", 'Great Insights about managing the next phase of the #pandemic written by our current participant Dr. Khashayar Rafa… https://t.co/5ABi8gEMEu', 'Only 31% of superintendents feel their teachers were prepared for distance learning. #creativeteachingmatters wheth… https://t.co/aevflGgpl6', 'Covid-19 status as of October 13, 2020 , Time : 18:37(Indian Standard Time)\\nTotal Cases : 7,177,783 (+4,218)\\nTotal… https://t.co/lSvB1pCn0U', 'Horowitz: Did WHO official just admit that COVID-19 death rate is similar to that of the flu? https://t.co/q7dFliggKx', 'Ivanka Trump’s Spin On Her Dad’s COVID-19 Failings Backfires https://t.co/5BpTCOm5Wf via @YahooNews', \"Take a listen to the latest #FedHeads with NASCIO's Executive Doug Robinson &amp; @GTPublicSector's Graeme Finley on ho… https://t.co/DDFB2amSHe\", 'Navdeep Kaur treated Covid-19 patients before becoming one. After recovering, she organized a vigil to mourn the pe… https://t.co/c3SUbiTWxS', 'WHO Backpedals on COVID-19 Scam as Criminal , Civil Charges Filed https://t.co/CsZCDmtBgy', '@pleaseh13711753 Covid-19 infected Trump delivers death to a supporter as this virus lives on surfaces up to 28 day… https://t.co/GdXhXTpAH7', '@grantstern @coke_usa When I saw those massive crowds on tv I KNEW they were bringing COVID-19 in with them.\\nI also… https://t.co/LQ9uBMKnZa', '#China #COVID19 #Coronavirus :: Airshow China Indefinitely postponed Citing COVID-19 https://t.co/RGJpakfbQM https://t.co/lqe3HPpIeD', 'someone in my residency tested positive for covid-19 so tomorrow all of us living there will get tested as well ://… https://t.co/W0L9sHNMV7', 'The article I am trying to ignore as my daughter starts week three of hybrid school Europe’s schools are reporting… https://t.co/3zh2KLVUeW', '2nd COVID-19 vaccine trial paused over unexplained illness https://t.co/KhZGabfHio', 'A positive case of Covid-19 has been confirmed at Ysgol Bro Gwaun.\\nhttps://t.co/eTmcRe7Wvp', 'Coronavirus closes classrooms, one new case of COVID-19 confirmed in Boone County, and trick-or-treat times set in… https://t.co/XFkCCWfkbI', \"India's COVID-19 fight people-driven, let's #Unite2FightCorona: PM Modi\\nhttps://t.co/6XkrUNk16L\\n\\nvia NaMo App https://t.co/4oDUd77LTK\", \"🤔🤔🤔 Johnson &amp; Johnson pauses COVID-19 vaccine trial over patient exhibiting an 'unexplained illness'  https://t.co/mXqwudtSNK\", 'Good Morning President Trump! So Happy you are feeling better and have recovered from covid -19!', 'Tony Green, a skeptic who contracted Covid-19, says he is an example for doubters - CNN https://t.co/LmJbXa7EFn', \"@Hadi00444292 You can learn more about Trent's response to COVID-19 by visiting https://t.co/TK630htnC1\", 'Further encouragement that technology is the best field to get a job. The Internet needs your help:… https://t.co/PH9WG6oz1A', 'My teacher just said, “Some of you are abusing this system, life isn’t that hard”. I wonder if he has ever heard of… https://t.co/T7VIndqfkj', 'Calif. doctor successfully cures 1,700 COVID-19 patients \\n#Covid19  #Hydroxychloroquine #pandemia #cure\\nhttps://t.co/1y2RpYKqMK via @YouTube', 'We needs to start rebuilding the economy. With an 800% increase in testing since the height of the pandemic, increa… https://t.co/nKw1nBfBHk', '@seanhannity @realDonaldTrump @LawrenceBJones3 @LindseyGrahamSC @JonathanTurley @AriFleischer @newtgingrich… https://t.co/7Hs5MF4OwP', 'For a safe return to school, please review the Daily COVID-19 Checklist... https://t.co/upBZDv6ie7', 'Have a question about using GP services during the #COVID-19?\\n\\n@Healthwatchcam is hosting an online ‘Ask your local… https://t.co/Vn3zXMpE41', \"McLean County Clerk Kathy Michael said she's cautiously watching the impact of COVID-19 on poll workers leading up… https://t.co/aRrcKAv48A\", 'Kerala Covid-19 Update on 13th October 2020\\n\\nhttps://t.co/40XlF7AuXC\\n\\n#covid19 #coronavirus #keralahealthdepartment… https://t.co/558SMChgYQ', \"The U.S. reported an overall Covid-19 mortality rate of 60.3 deaths per 100,000 people. \\n\\nCanada's rate was 24.6 de… https://t.co/r2DjIn3fFM\", '#COVID19: 677 cases in #JammuKashmir; #Jammu 121, #Rajouri 41\\nhttps://t.co/Fl0CawBDig https://t.co/xWIjqTyRNj', '“A lockdown does not prevent deaths. On the contrary, it extends the period of time during which populations at ris… https://t.co/GRuI3mBCuu', \"Here's a great opportunity to hear my @UCSUSA colleague Dr. Adrienne Hollis (@EjToxicdoc) &amp; other experts on an int… https://t.co/OiUaA2jK9r\", \"Johnson &amp; Johnson pauses Covid-19 vaccine trial after 'unexplained illness'\\n\\nhttps://t.co/2y8HBXMvnz\", \"India's COVID-19 fight people-driven, let's #Unite2FightCorona: PM Modi\\nhttps://t.co/6XkrUNk16L\\n\\nvia NaMo App https://t.co/pFSIOnlyFk\"]\n"
          ],
          "name": "stdout"
        }
      ]
    },
    {
      "cell_type": "code",
      "metadata": {
        "id": "03M6gOZzc7rb",
        "outputId": "ca1f64b7-4c73-4ea1-f7ae-c226d41e7fe7",
        "colab": {
          "base_uri": "https://localhost:8080/",
          "height": 51
        }
      },
      "source": [
        "import numpy as np \n",
        "import pandas as pd \n",
        "import re  \n",
        "import nltk # an amazing library to play with natural language\n",
        "nltk.download('stopwords')  \n",
        "from nltk.corpus import stopwords \n"
      ],
      "execution_count": null,
      "outputs": [
        {
          "output_type": "stream",
          "text": [
            "[nltk_data] Downloading package stopwords to /root/nltk_data...\n",
            "[nltk_data]   Package stopwords is already up-to-date!\n"
          ],
          "name": "stdout"
        }
      ]
    },
    {
      "cell_type": "code",
      "metadata": {
        "id": "LIIrJYhVdD9y",
        "outputId": "044c8fbe-9ad6-45b9-b00c-d551f8c823ff",
        "colab": {
          "base_uri": "https://localhost:8080/",
          "height": 255
        }
      },
      "source": [
        "tweets = pd.read_csv(\"https://raw.githubusercontent.com/kolaveridi/kaggle-Twitter-US-Airline-Sentiment-/master/Tweets.csv\")\n",
        "print(tweets)"
      ],
      "execution_count": null,
      "outputs": [
        {
          "output_type": "stream",
          "text": [
            "                 tweet_id  ...               user_timezone\n",
            "0      570306133677760513  ...  Eastern Time (US & Canada)\n",
            "1      570301130888122368  ...  Pacific Time (US & Canada)\n",
            "2      570301083672813571  ...  Central Time (US & Canada)\n",
            "3      570301031407624196  ...  Pacific Time (US & Canada)\n",
            "4      570300817074462722  ...  Pacific Time (US & Canada)\n",
            "...                   ...  ...                         ...\n",
            "14635  569587686496825344  ...                         NaN\n",
            "14636  569587371693355008  ...                         NaN\n",
            "14637  569587242672398336  ...                         NaN\n",
            "14638  569587188687634433  ...  Eastern Time (US & Canada)\n",
            "14639  569587140490866689  ...                         NaN\n",
            "\n",
            "[14640 rows x 15 columns]\n"
          ],
          "name": "stdout"
        }
      ]
    },
    {
      "cell_type": "code",
      "metadata": {
        "id": "yUFttnmRdTol",
        "outputId": "4eb9980e-952d-4f9b-abf6-8b956c93dcb0",
        "colab": {
          "base_uri": "https://localhost:8080/",
          "height": 119
        }
      },
      "source": [
        "X = tweets.iloc[:, 10].values  \n",
        "y = tweets.iloc[:, 1].values\n",
        "\n",
        "print(X)"
      ],
      "execution_count": null,
      "outputs": [
        {
          "output_type": "stream",
          "text": [
            "['@VirginAmerica What @dhepburn said.'\n",
            " \"@VirginAmerica plus you've added commercials to the experience... tacky.\"\n",
            " \"@VirginAmerica I didn't today... Must mean I need to take another trip!\"\n",
            " ... '@AmericanAir Please bring American Airlines to #BlackBerry10'\n",
            " \"@AmericanAir you have my money, you change my flight, and don't answer your phones! Any other suggestions so I can make my commitment??\"\n",
            " '@AmericanAir we have 8 ppl so we need 2 know how many seats are on the next flight. Plz put us on standby for 4 people on the next flight?']\n"
          ],
          "name": "stdout"
        }
      ]
    },
    {
      "cell_type": "code",
      "metadata": {
        "id": "wCbe6x3cqOAR"
      },
      "source": [
        "processed_tweets = []\n",
        " \n",
        "for tweet in range(0, len(X)):  \n",
        "    # Remove all the special characters\n",
        "    processed_tweet = re.sub(r'\\W', ' ', str(X[tweet]))\n",
        " \n",
        "    # remove all single characters\n",
        "    processed_tweet = re.sub(r'\\s+[a-zA-Z]\\s+', ' ', processed_tweet)\n",
        " \n",
        "    # Remove single characters from the start\n",
        "    processed_tweet = re.sub(r'\\^[a-zA-Z]\\s+', ' ', processed_tweet) \n",
        " \n",
        "    # Substituting multiple spaces with single space\n",
        "    processed_tweet= re.sub(r'\\s+', ' ', processed_tweet, flags=re.I)\n",
        " \n",
        "    # Removing prefixed 'b'\n",
        "    processed_tweet = re.sub(r'^b\\s+', '', processed_tweet)\n",
        " \n",
        "    # Converting to Lowercase\n",
        "    processed_tweet = processed_tweet.lower()\n",
        " \n",
        "    processed_tweets.append(processed_tweet)"
      ],
      "execution_count": null,
      "outputs": []
    },
    {
      "cell_type": "code",
      "metadata": {
        "id": "fvvzPXC7daw9"
      },
      "source": [
        "from sklearn.feature_extraction.text import TfidfVectorizer  \n",
        "tfidfconverter = TfidfVectorizer(max_features=2000, min_df=5, max_df=0.7, stop_words=stopwords.words('english'))  \n",
        "X = tfidfconverter.fit_transform(processed_tweets).toarray()\n"
      ],
      "execution_count": null,
      "outputs": []
    },
    {
      "cell_type": "code",
      "metadata": {
        "id": "_yReZpg4dftB",
        "outputId": "4f50cc04-be34-4278-a85b-1472d0f08412",
        "colab": {
          "base_uri": "https://localhost:8080/",
          "height": 153
        }
      },
      "source": [
        "from sklearn.ensemble import RandomForestClassifier\n",
        "text_classifier = RandomForestClassifier(n_estimators=100, random_state=0)  \n",
        "text_classifier.fit(X, y)"
      ],
      "execution_count": null,
      "outputs": [
        {
          "output_type": "execute_result",
          "data": {
            "text/plain": [
              "RandomForestClassifier(bootstrap=True, ccp_alpha=0.0, class_weight=None,\n",
              "                       criterion='gini', max_depth=None, max_features='auto',\n",
              "                       max_leaf_nodes=None, max_samples=None,\n",
              "                       min_impurity_decrease=0.0, min_impurity_split=None,\n",
              "                       min_samples_leaf=1, min_samples_split=2,\n",
              "                       min_weight_fraction_leaf=0.0, n_estimators=100,\n",
              "                       n_jobs=None, oob_score=False, random_state=0, verbose=0,\n",
              "                       warm_start=False)"
            ]
          },
          "metadata": {
            "tags": []
          },
          "execution_count": 122
        }
      ]
    },
    {
      "cell_type": "code",
      "metadata": {
        "id": "PiH3lhymdsYI",
        "outputId": "7be62187-6553-447b-f9f2-ff06e415f7f0",
        "colab": {
          "base_uri": "https://localhost:8080/",
          "height": 34
        }
      },
      "source": [
        "total_negative = 0\n",
        "total_positive = 0\n",
        "total_neutral = 0\n",
        "for tweet in all_tweets:\n",
        "    # Remove all the special characters\n",
        "    processed_tweet = re.sub(r'\\W', ' ', tweet)\n",
        " \n",
        "    # remove all single characters\n",
        "    processed_tweet = re.sub(r'\\s+[a-zA-Z]\\s+', ' ', processed_tweet)\n",
        " \n",
        "    # Remove single characters from the start\n",
        "    processed_tweet = re.sub(r'\\^[a-zA-Z]\\s+', ' ', processed_tweet) \n",
        " \n",
        "    # Substituting multiple spaces with single space\n",
        "    processed_tweet= re.sub(r'\\s+', ' ', processed_tweet, flags=re.I)\n",
        " \n",
        "    # Removing prefixed 'b'\n",
        "    processed_tweet = re.sub(r'^b\\s+', '', processed_tweet)\n",
        " \n",
        "    # Converting to Lowercase\n",
        "    processed_tweet = processed_tweet.lower()\n",
        " \n",
        "    sentiment = text_classifier.predict(tfidfconverter.transform([ processed_tweet]).toarray())\n",
        "    #print(processed_tweet ,\":\", sentiment)\n",
        "    if sentiment == \"negative\":\n",
        "      total_negative += 1\n",
        "    if sentiment == \"positive\":\n",
        "      total_positive += 1\n",
        "    if sentiment == \"neutral\":\n",
        "      total_neutral +=1 \n",
        "\n",
        "print (\"Total Positive: \",total_positive, \"Total Negative: \",total_negative,\"Total Neutral:\", total_neutral)\n"
      ],
      "execution_count": 135,
      "outputs": [
        {
          "output_type": "stream",
          "text": [
            "Total Positive:  4 Total Negative:  53 Total Neutral: 143\n"
          ],
          "name": "stdout"
        }
      ]
    },
    {
      "cell_type": "code",
      "metadata": {
        "id": "H466m90u1DFn",
        "outputId": "1410ce84-6569-4d6d-8933-1a11f0e6f42b",
        "colab": {
          "base_uri": "https://localhost:8080/",
          "height": 136
        }
      },
      "source": [
        "!pip install matplotlib"
      ],
      "execution_count": null,
      "outputs": [
        {
          "output_type": "stream",
          "text": [
            "Requirement already satisfied: matplotlib in /usr/local/lib/python3.6/dist-packages (3.2.2)\n",
            "Requirement already satisfied: pyparsing!=2.0.4,!=2.1.2,!=2.1.6,>=2.0.1 in /usr/local/lib/python3.6/dist-packages (from matplotlib) (2.4.7)\n",
            "Requirement already satisfied: cycler>=0.10 in /usr/local/lib/python3.6/dist-packages (from matplotlib) (0.10.0)\n",
            "Requirement already satisfied: kiwisolver>=1.0.1 in /usr/local/lib/python3.6/dist-packages (from matplotlib) (1.2.0)\n",
            "Requirement already satisfied: python-dateutil>=2.1 in /usr/local/lib/python3.6/dist-packages (from matplotlib) (2.8.1)\n",
            "Requirement already satisfied: numpy>=1.11 in /usr/local/lib/python3.6/dist-packages (from matplotlib) (1.18.5)\n",
            "Requirement already satisfied: six in /usr/local/lib/python3.6/dist-packages (from cycler>=0.10->matplotlib) (1.15.0)\n"
          ],
          "name": "stdout"
        }
      ]
    },
    {
      "cell_type": "code",
      "metadata": {
        "id": "Hk2cbcLF1Kz1",
        "outputId": "a10ab8df-57a4-4d26-ee97-0cb7b519f496",
        "colab": {
          "base_uri": "https://localhost:8080/",
          "height": 303
        }
      },
      "source": [
        "import matplotlib.pyplot as plt\n",
        "\n",
        "plt.figure(figsize=(5,5))\n",
        "labels = [\"Positive\", \"Negative\", \"Neutral\"]\n",
        "values = [total_positive, total_negative, total_neutral]\n",
        "\n",
        "plt.pie(values, labels=labels)\n",
        "\n",
        "\n",
        "plt.show()"
      ],
      "execution_count": null,
      "outputs": [
        {
          "output_type": "display_data",
          "data": {
            "image/png": "[encoded data removed]",
            "text/plain": [
              "<Figure size 360x360 with 1 Axes>"
            ]
          },
          "metadata": {
            "tags": []
          }
        }
      ]
    },
    {
      "cell_type": "code",
      "metadata": {
        "id": "Id5fHxbz4NZg",
        "outputId": "bcdea37c-8e15-4189-be1d-521b450813a4",
        "colab": {
          "base_uri": "https://localhost:8080/",
          "height": 336
        }
      },
      "source": [
        "import matplotlib.pyplot as plt\n",
        "fig = plt.figure()\n",
        "ax = fig.add_axes([0,0,1,1])\n",
        "sentiments = ['Positive', 'Negative', 'Neutral']\n",
        "total = [total_positive, total_negative, total_neutral]\n",
        "ax.bar(sentiments,total)\n",
        "plt.show()\n"
      ],
      "execution_count": null,
      "outputs": [
        {
          "output_type": "display_data",
          "data": {
            "image/png": "[encoded data removed]",
            "text/plain": [
              "<Figure size 432x288 with 1 Axes>"
            ]
          },
          "metadata": {
            "tags": [],
            "needs_background": "light"
          }
        }
      ]
    },
    {
      "cell_type": "code",
      "metadata": {
        "id": "4YmISkT5G5vy"
      },
      "source": [
        ""
      ],
      "execution_count": 144,
      "outputs": []
    }
  ]
}